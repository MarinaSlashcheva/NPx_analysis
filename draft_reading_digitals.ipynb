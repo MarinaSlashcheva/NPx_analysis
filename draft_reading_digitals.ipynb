{
 "cells": [
  {
   "cell_type": "code",
   "execution_count": 2,
   "metadata": {},
   "outputs": [],
   "source": [
    "import numpy as np\n",
    "import pandas as pd\n",
    "import matplotlib.pyplot as plt\n",
    "import os\n",
    "import os.path\n",
    "from scipy import signal as sg\n",
    "\n",
    "import h5py "
   ]
  },
  {
   "cell_type": "code",
   "execution_count": 63,
   "metadata": {},
   "outputs": [],
   "source": [
    "#Sess = 'Bl6_177_2020-02-29_17-12-05'\n",
    "#Sess = 'Bl6_177_2020-02-27_14-36-07'\n",
    "Sess = 'Bl6_177_2020-03-01_14-49-02'\n",
    "\n",
    "#filename_video = 'Bl6_177_200227_0001DLC_resnet50_Pupils_NPxApr22shuffle1_300000.csv'\n",
    "filename_video = 'Bl6_177_200301_0001DLC_resnet50_Pupils_NPxApr22shuffle1_300000.csv'\n",
    "\n",
    "sr = 30000\n",
    "wd = os.path.join('/gs/projects/OWVinckNatIm/NPx_recordings/', Sess)\n"
   ]
  },
  {
   "cell_type": "code",
   "execution_count": 19,
   "metadata": {},
   "outputs": [
    {
     "name": "stdout",
     "output_type": "stream",
     "text": [
      "/gs/projects/OWVinckNatIm/NPx_recordings/Bl6_177_2020-03-01_14-49-02/experiment1/recording1/continuous/Rhythm_FPGA-102.0/\n"
     ]
    }
   ],
   "source": [
    "wd_cont = wd + '/experiment1/recording1/continuous/Rhythm_FPGA-102.0/'\n",
    "print(wd_cont)\n",
    "\n",
    "cont_ts = np.load(os.path.join(wd_cont, \"timestamps.npy\"))\n",
    "ts_first = cont_ts[0]\n",
    "\n",
    "del cont_ts"
   ]
  },
  {
   "cell_type": "code",
   "execution_count": 64,
   "metadata": {},
   "outputs": [],
   "source": [
    "ts_first = 194816 #'Bl6_177_2020-03-01_14-49-02'\n",
    "\n",
    "#ts_first = 6354944 #'Bl6_177_2020-02-27_14-36-07'"
   ]
  },
  {
   "cell_type": "code",
   "execution_count": 65,
   "metadata": {},
   "outputs": [
    {
     "name": "stdout",
     "output_type": "stream",
     "text": [
      "First timestamp is 194816\n",
      "181513 timestamps total\n"
     ]
    }
   ],
   "source": [
    "wd_events = wd + '/experiment1/recording1/events/Rhythm_FPGA-102.0/TTL_1/'\n",
    "\n",
    "sr = 30000\n",
    "print('First timestamp is', ts_first)\n",
    "\n",
    "#channels = np.load(os.path.join(wd, \"channels.npy\"))\n",
    "channel_states = np.load(os.path.join(wd_events, \"channel_states.npy\"))\n",
    "ts = np.load(os.path.join(wd_events, \"timestamps.npy\"))\n",
    "ts = ts - ts_first\n",
    "\n",
    "\n",
    "\n",
    "camera_ind = [channel_states == 1][0]\n",
    "camera_time = ts[camera_ind]/sr\n",
    "\n",
    "print(len(camera_time), 'timestamps total')"
   ]
  },
  {
   "cell_type": "code",
   "execution_count": 69,
   "metadata": {},
   "outputs": [
    {
     "name": "stdout",
     "output_type": "stream",
     "text": [
      "[0.3432     0.19556667 0.1956    ]\n",
      "55\n",
      "71\n",
      "181507\n",
      "There are  181436 timestamps\n"
     ]
    },
    {
     "data": {
      "text/plain": [
       "181436"
      ]
     },
     "execution_count": 69,
     "metadata": {},
     "output_type": "execute_result"
    }
   ],
   "source": [
    "diff = camera_time[1:] - camera_time[:-1]\n",
    "val = diff[diff > 0.05]\n",
    "\n",
    "print(val)\n",
    "\n",
    "# ptint indices of these values\n",
    "for i in range(len(val)):\n",
    "    print(np.where(diff == val[i])[0][0])\n",
    "\n",
    "\n",
    "print('There are ', (181507 - 71), 'timestamps')\n",
    "\n",
    "camera_time_cont = camera_time[np.where(diff == val[1])[0][0]:np.where(diff == val[2])[0][0]]"
   ]
  },
  {
   "cell_type": "code",
   "execution_count": 70,
   "metadata": {},
   "outputs": [
    {
     "name": "stdout",
     "output_type": "stream",
     "text": [
      "181405\n"
     ]
    }
   ],
   "source": [
    "pupil_folder = '/mnt/gs/home/slashchevam/DeepLC/pupils_NPx/Pupils_NPx-slashchevam-2020-04-22/videos/'\n",
    "os.chdir(pupil_folder)\n",
    "\n",
    "pupil_table = pd.read_csv(os.path.join(pupil_folder, filename_video),  \n",
    "                          sep=\",\", \n",
    "                          index_col=False)\n",
    "\n",
    "pupil_table = pupil_table[2:]\n",
    "pupil_table.columns = ['ind', \n",
    "                       'upx', 'upy', 'upscore', \n",
    "                       'rightx', 'righty', 'rightscore', \n",
    "                       'downx', 'downy', 'downscore', \n",
    "                       'leftx', 'lefty', 'leftscore']\n",
    "\n",
    "pupil_table = pupil_table.astype('float')\n",
    "print(len(pupil_table))"
   ]
  },
  {
   "cell_type": "code",
   "execution_count": 95,
   "metadata": {},
   "outputs": [
    {
     "data": {
      "text/plain": [
       "[<matplotlib.lines.Line2D at 0x7f6bb8cd6990>]"
      ]
     },
     "execution_count": 95,
     "metadata": {},
     "output_type": "execute_result"
    },
    {
     "data": {
      "image/png": "[encoded data removed]",
      "text/plain": [
       "<Figure size 432x288 with 1 Axes>"
      ]
     },
     "metadata": {
      "needs_background": "light"
     },
     "output_type": "display_data"
    }
   ],
   "source": [
    "\n",
    "# Adjust manually for your data\n",
    "kernel = 15 # must be odd\n",
    "\n",
    "w = np.abs(pupil_table['rightx'] - pupil_table['leftx'])\n",
    "#plt.plot(w)\n",
    "w_medianf = sg.medfilt(w, kernel_size = kernel)\n",
    "#plt.plot(w_medianf)\n",
    "\n",
    "h = np.abs(pupil_table['upy'] - pupil_table['downy'])\n",
    "#plt.plot(h)\n",
    "h_medianf = sg.medfilt(h, kernel_size = kernel)\n",
    "#plt.plot(h_medianf)\n",
    "\n",
    "av_rad = (w_medianf + h_medianf)/4\n",
    "pupil_area = np.pi * av_rad**2\n",
    "\n",
    "plt.plot(pupil_area)\n",
    "\n"
   ]
  },
  {
   "cell_type": "code",
   "execution_count": 96,
   "metadata": {},
   "outputs": [
    {
     "name": "stdout",
     "output_type": "stream",
     "text": [
      "number of value exceeding 5 std after filtering: 141\n"
     ]
    },
    {
     "data": {
      "image/png": "[encoded data removed]",
      "text/plain": [
       "<Figure size 432x288 with 1 Axes>"
      ]
     },
     "metadata": {
      "needs_background": "light"
     },
     "output_type": "display_data"
    }
   ],
   "source": [
    "print(\"number of value exceeding 5 std after filtering:\", \n",
    "      len(pupil_area[pupil_area > np.mean(pupil_area) + 5*np.std(pupil_area)]))\n",
    "\n",
    "pupil_area_cor = pupil_area\n",
    "\n",
    "pupil_area_cor[pupil_area_cor > np.mean(pupil_area_cor) + 5*np.std(pupil_area_cor)] = np.mean(pupil_area_cor)\n",
    "\n",
    "# %%\n",
    "\n",
    "#pupil_export = {'time': camera_time_cont[0:len(pupil_area)], 'pupil_area': pupil_area}\n",
    "#pupil_area_df = pd.DataFrame(pupil_export, columns=['time', 'pupil_area'])\n",
    "\n",
    "#name = Sess + '_pupil.csv'\n",
    "#pupil_area_df.to_csv(name, index=False)\n",
    "\n",
    "plt.plot(pupil_area_cor)\n",
    "\n",
    "\n",
    "# %%\n",
    "\n",
    "pupil_export = {'time': camera_time_cont[0:len(pupil_area_cor)], 'pupil_area': pupil_area_cor}\n",
    "pupil_area_df = pd.DataFrame(pupil_export, columns=['time', 'pupil_area'])\n",
    "\n",
    "name = Sess + '_pupil.csv'\n",
    "pupil_area_df.to_csv(name, index=False)"
   ]
  },
  {
   "cell_type": "code",
   "execution_count": 97,
   "metadata": {},
   "outputs": [
    {
     "data": {
      "text/plain": [
       "'/mnt/pns/home/slashchevam/DeepLC/pupils_NPx/Pupils_NPx-slashchevam-2020-04-22/videos'"
      ]
     },
     "execution_count": 97,
     "metadata": {},
     "output_type": "execute_result"
    }
   ],
   "source": [
    "pwd()"
   ]
  }
 ],
 "metadata": {
  "kernelspec": {
   "display_name": "Python 3",
   "language": "python",
   "name": "python3"
  },
  "language_info": {
   "codemirror_mode": {
    "name": "ipython",
    "version": 3
   },
   "file_extension": ".py",
   "mimetype": "text/x-python",
   "name": "python",
   "nbconvert_exporter": "python",
   "pygments_lexer": "ipython3",
   "version": "3.7.4"
  }
 },
 "nbformat": 4,
 "nbformat_minor": 2
}
